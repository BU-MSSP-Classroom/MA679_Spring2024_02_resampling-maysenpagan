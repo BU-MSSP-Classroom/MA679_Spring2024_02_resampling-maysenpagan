{
 "cells": [
  {
   "cell_type": "markdown",
   "id": "dcd4f2cd",
   "metadata": {},
   "source": [
    "# Resampling\n",
    "#### author: \"Your Name Here\"\n",
    "#### date: \"2022-12-30\"\n"
   ]
  },
  {
   "cell_type": "code",
   "execution_count": 1,
   "id": "275f333b",
   "metadata": {
    "attributes": {
     "classes": [],
     "id": "",
     "include": "FALSE"
    }
   },
   "outputs": [],
   "source": [
    "knitr::opts_chunk$set(echo = FALSE,message=FALSE,fig.align=\"center\",fig.width=7,fig.height=2.5)\n",
    "pacman::p_load(\n",
    "       car\n",
    "      , ggplot2\n",
    "      , ggExtra\n",
    "      , reshape2\n",
    "      , corrplot\n",
    "      , RColorBrewer\n",
    "      , lubridate\n",
    "      , AmesHousing\n",
    "      )"
   ]
  },
  {
   "cell_type": "code",
   "execution_count": 2,
   "id": "4831d717",
   "metadata": {
    "attributes": {
     "classes": [],
     "id": "",
     "r,echo": "FALSE"
    }
   },
   "outputs": [],
   "source": [
    "# Global parameter\n",
    "show_code <- TRUE"
   ]
  },
  {
   "cell_type": "markdown",
   "id": "9d03c0ea",
   "metadata": {},
   "source": [
    "# Class Workbook {.tabset .tabset-fade .tabset-pills}\n",
    "\n",
    "## In class activity\n",
    "\n",
    "### Ames House Data"
   ]
  },
  {
   "cell_type": "code",
   "execution_count": 3,
   "id": "d2766af2",
   "metadata": {
    "attributes": {
     "classes": [],
     "id": "",
     "r,echo": "show_code"
    }
   },
   "outputs": [],
   "source": [
    "library(AmesHousing)\n",
    "?ames_raw"
   ]
  },
  {
   "cell_type": "markdown",
   "id": "a2f837be",
   "metadata": {},
   "source": [
    "Let's revisit the AmesHousing data.  As we did in the previous class, I will split the data into before 2008 and after.  The data up to 2008 will be the training data and after 2008 will be the testing data."
   ]
  },
  {
   "cell_type": "code",
   "execution_count": 4,
   "id": "147e89ad",
   "metadata": {
    "attributes": {
     "classes": [],
     "id": "",
     "r,echo": "show_code"
    }
   },
   "outputs": [],
   "source": [
    "ames_raw_2008=ames_raw[ames_raw$`Yr Sold`<2008,]\n",
    "ames_raw_2009=ames_raw[ames_raw$`Yr Sold`>=2008,]"
   ]
  },
  {
   "cell_type": "markdown",
   "id": "db91dd56",
   "metadata": {},
   "source": [
    "* For the regression model fit, use bootstrap to compare the standard error estimates to the model based estimates.\n",
    "\n",
    "\n",
    "Your code:"
   ]
  },
  {
   "cell_type": "code",
   "execution_count": null,
   "id": "b2b089a6",
   "metadata": {
    "attributes": {
     "classes": [],
     "id": "",
     "r,echo": "TRUE"
    }
   },
   "outputs": [],
   "source": [
    "#\n",
    "#"
   ]
  },
  {
   "cell_type": "markdown",
   "id": "32b5406c",
   "metadata": {},
   "source": [
    "Your answer:"
   ]
  },
  {
   "cell_type": "code",
   "execution_count": null,
   "id": "d408a82f",
   "metadata": {},
   "outputs": [],
   "source": [
    "Please write your answer in full sentences.\n",
    "\n"
   ]
  },
  {
   "cell_type": "markdown",
   "id": "8d88cd2d",
   "metadata": {},
   "source": [
    "* Use cross validation  to decide which model has a good predictive accuracy.  Does the result hold true for the prediction of future data?\n",
    "\n",
    "Your code:"
   ]
  },
  {
   "cell_type": "code",
   "execution_count": null,
   "id": "7af0d20c",
   "metadata": {
    "attributes": {
     "classes": [],
     "id": "",
     "r,echo": "TRUE"
    }
   },
   "outputs": [],
   "source": [
    "#\n",
    "#"
   ]
  },
  {
   "cell_type": "markdown",
   "id": "733f392f",
   "metadata": {},
   "source": [
    "Your answer:"
   ]
  },
  {
   "cell_type": "code",
   "execution_count": null,
   "id": "024c2ff9",
   "metadata": {},
   "outputs": [],
   "source": [
    "Please write your answer in full sentences.\n",
    "\n"
   ]
  },
  {
   "cell_type": "markdown",
   "id": "392c0d15",
   "metadata": {},
   "source": [
    "* Using `knn.reg` fit KNN regression model.  Use cross validation to decide which K to use.\n",
    "\n",
    "Your code:"
   ]
  },
  {
   "cell_type": "code",
   "execution_count": null,
   "id": "fd39cef0",
   "metadata": {
    "attributes": {
     "classes": [],
     "id": "",
     "r,echo": "TRUE"
    }
   },
   "outputs": [],
   "source": [
    "#\n",
    "#"
   ]
  },
  {
   "cell_type": "markdown",
   "id": "96a326cc",
   "metadata": {},
   "source": [
    "Your answer:"
   ]
  },
  {
   "cell_type": "code",
   "execution_count": null,
   "id": "74c454d9",
   "metadata": {},
   "outputs": [],
   "source": [
    "Please write your answer in full sentences.\n",
    "\n"
   ]
  },
  {
   "cell_type": "markdown",
   "id": "54c4d906",
   "metadata": {},
   "source": [
    "* Which model performs better on your training data?  Which model performs better in your future prediction?\n",
    "\n",
    "Your code:"
   ]
  },
  {
   "cell_type": "code",
   "execution_count": null,
   "id": "dfcae146",
   "metadata": {
    "attributes": {
     "classes": [],
     "id": "",
     "r,echo": "TRUE"
    }
   },
   "outputs": [],
   "source": [
    "#\n",
    "#"
   ]
  },
  {
   "cell_type": "markdown",
   "id": "c2bc9d76",
   "metadata": {},
   "source": [
    "Your answer:"
   ]
  },
  {
   "cell_type": "code",
   "execution_count": null,
   "id": "4f2e63ed",
   "metadata": {},
   "outputs": [],
   "source": [
    "Please write your answer in full sentences.\n",
    "\n"
   ]
  },
  {
   "cell_type": "markdown",
   "id": "83dcde26",
   "metadata": {},
   "source": [
    "## Problem Set\n",
    "\n",
    "### Bootstrap\n",
    "\n",
    "We will investigate numerically the probability that a bootstrap sample of size n = 100 contains the jth observation. Here j = 4. We repeatedly create bootstrap samples, and each time\n",
    "we record whether or not the fourth observation is contained in the bootstrap sample.\n",
    "\n",
    "Here is the code to get you going"
   ]
  },
  {
   "cell_type": "code",
   "execution_count": null,
   "id": "e57fcb5f",
   "metadata": {
    "attributes": {
     "": "TRUE,eval=FALSE",
     "classes": [],
     "id": ""
    }
   },
   "outputs": [],
   "source": [
    "store <- rep(NA, 10000)\n",
    "for(i in 1:10000){\n",
    "  store[i] <- sum(sample (1:100 , rep=TRUE) == 4) > 0\n",
    "}\n",
    "mean(store)"
   ]
  },
  {
   "cell_type": "markdown",
   "id": "f7b08ad7",
   "metadata": {},
   "source": [
    "Comment on the results obtained.\n",
    "\n",
    "\n",
    "Your code:"
   ]
  },
  {
   "cell_type": "code",
   "execution_count": null,
   "id": "12e12300",
   "metadata": {
    "attributes": {
     "classes": [],
     "id": "",
     "r,echo": "TRUE"
    }
   },
   "outputs": [],
   "source": [
    "#\n",
    "#"
   ]
  },
  {
   "cell_type": "markdown",
   "id": "33350647",
   "metadata": {},
   "source": [
    "Your answer:"
   ]
  },
  {
   "cell_type": "code",
   "execution_count": null,
   "id": "f58f0976",
   "metadata": {},
   "outputs": [],
   "source": [
    "Please write your answer in full sentences.\n",
    "\n"
   ]
  },
  {
   "cell_type": "markdown",
   "id": "2672bcc8",
   "metadata": {},
   "source": [
    "### CV\n",
    "\n",
    "We will now perform cross-validation on a simulated data set.\n",
    "(a) Generate a simulated data set as follows:"
   ]
  },
  {
   "cell_type": "code",
   "execution_count": 5,
   "id": "d94f2f9f",
   "metadata": {
    "attributes": {
     "": "TRUE",
     "classes": [],
     "id": "",
     "r,eval": "FALSE,"
    }
   },
   "outputs": [],
   "source": [
    "set.seed (1)\n",
    "x <- rnorm (100)\n",
    "y <- x - 2 * x^2 + rnorm (100)"
   ]
  },
  {
   "cell_type": "markdown",
   "id": "eba55911",
   "metadata": {},
   "source": [
    "In this data set, what is n and what is p? Write out the model\n",
    "used to generate the data in equation form.\n",
    "\n",
    "\n",
    "Your code:"
   ]
  },
  {
   "cell_type": "code",
   "execution_count": null,
   "id": "0f64acf0",
   "metadata": {
    "attributes": {
     "classes": [],
     "id": "",
     "r,echo": "TRUE"
    }
   },
   "outputs": [],
   "source": [
    "#\n",
    "#"
   ]
  },
  {
   "cell_type": "markdown",
   "id": "db6864d1",
   "metadata": {},
   "source": [
    "Your answer:"
   ]
  },
  {
   "cell_type": "code",
   "execution_count": null,
   "id": "3a7b9bc7",
   "metadata": {},
   "outputs": [],
   "source": [
    "Please write your answer in full sentences.\n",
    "\n"
   ]
  },
  {
   "cell_type": "markdown",
   "id": "15ce7fb9",
   "metadata": {},
   "source": [
    "(b) Create a scatterplot of X against Y . Comment on what you find.\n",
    "\n",
    "\n",
    "Your code:"
   ]
  },
  {
   "cell_type": "code",
   "execution_count": null,
   "id": "8b646ae3",
   "metadata": {
    "attributes": {
     "classes": [],
     "id": "",
     "r,echo": "TRUE"
    }
   },
   "outputs": [],
   "source": [
    "#\n",
    "#"
   ]
  },
  {
   "cell_type": "markdown",
   "id": "4fa6e2ee",
   "metadata": {},
   "source": [
    "Your answer:"
   ]
  },
  {
   "cell_type": "code",
   "execution_count": null,
   "id": "34ea3372",
   "metadata": {},
   "outputs": [],
   "source": [
    "Please write your answer in full sentences.\n",
    "\n"
   ]
  },
  {
   "cell_type": "markdown",
   "id": "3933edba",
   "metadata": {},
   "source": [
    "(c) Set a random seed, and then compute the LOOCV errors that result from fitting the following four models using least squares:\n",
    "\n",
    "1.   $Y = \\beta_0 + \\beta_1X + \\epsilon$\n",
    "2.  $Y = \\beta_0 + \\beta_1X + \\beta_2X^2 + \\epsilon$\n",
    "3. $Y = \\beta_0 + \\beta_1X + \\beta_2X^2 + \\beta_3X^3 + \\epsilon$\n",
    "4.  $Y = \\beta_0 + \\beta_1X + \\beta_2X^2 + \\beta_3X^3 + \\beta_4X^4 + \\epsilon$.\n",
    "\n",
    "Note you may find it helpful to use the `data.frame()` function\n",
    "to create a single data set containing both $X$ and $Y$ .\n",
    "\n",
    "\n",
    "Your code:"
   ]
  },
  {
   "cell_type": "code",
   "execution_count": null,
   "id": "768acc75",
   "metadata": {
    "attributes": {
     "classes": [],
     "id": "",
     "r,echo": "TRUE"
    }
   },
   "outputs": [],
   "source": [
    "#\n",
    "#"
   ]
  },
  {
   "cell_type": "markdown",
   "id": "020afada",
   "metadata": {},
   "source": [
    "Your answer:"
   ]
  },
  {
   "cell_type": "code",
   "execution_count": null,
   "id": "9651873f",
   "metadata": {},
   "outputs": [],
   "source": [
    "Please write your answer in full sentences.\n",
    "\n"
   ]
  },
  {
   "cell_type": "markdown",
   "id": "958a5913",
   "metadata": {},
   "source": [
    "(d) Repeat (c) using another random seed, and report your results.\n",
    "Are your results the same as what you got in (c)? Why?\n",
    "\n",
    "Your code:"
   ]
  },
  {
   "cell_type": "code",
   "execution_count": null,
   "id": "97212a73",
   "metadata": {
    "attributes": {
     "classes": [],
     "id": "",
     "r,echo": "TRUE"
    }
   },
   "outputs": [],
   "source": [
    "#\n",
    "#"
   ]
  },
  {
   "cell_type": "markdown",
   "id": "f7b2b1af",
   "metadata": {},
   "source": [
    "Your answer:"
   ]
  },
  {
   "cell_type": "code",
   "execution_count": null,
   "id": "40d29514",
   "metadata": {},
   "outputs": [],
   "source": [
    "Please write your answer in full sentences.\n",
    "\n"
   ]
  },
  {
   "cell_type": "markdown",
   "id": "297033ec",
   "metadata": {},
   "source": [
    "(e) Which of the models in (c) had the smallest LOOCV error? Is this what you expected? Explain your answer.\n",
    "\n",
    "Your code:"
   ]
  },
  {
   "cell_type": "code",
   "execution_count": null,
   "id": "de16eb7d",
   "metadata": {
    "attributes": {
     "classes": [],
     "id": "",
     "r,echo": "TRUE"
    }
   },
   "outputs": [],
   "source": [
    "#\n",
    "#"
   ]
  },
  {
   "cell_type": "markdown",
   "id": "7322b8cc",
   "metadata": {},
   "source": [
    "Your answer:"
   ]
  },
  {
   "cell_type": "code",
   "execution_count": null,
   "id": "f9a876ea",
   "metadata": {},
   "outputs": [],
   "source": [
    "Please write your answer in full sentences.\n",
    "\n"
   ]
  },
  {
   "cell_type": "markdown",
   "id": "6565efbb",
   "metadata": {},
   "source": [
    "(f) Comment on the statistical significance of the coefficient estimates that results from fitting each of the models in (c) using least squares. Do these results agree with the conclusions drawn based on the cross-validation results?\n",
    "\n",
    "\n",
    "Your code:"
   ]
  },
  {
   "cell_type": "code",
   "execution_count": null,
   "id": "fcb896c7",
   "metadata": {
    "attributes": {
     "classes": [],
     "id": "",
     "r,echo": "TRUE"
    }
   },
   "outputs": [],
   "source": [
    "#\n",
    "#"
   ]
  },
  {
   "cell_type": "markdown",
   "id": "4615bfa4",
   "metadata": {},
   "source": [
    "Your answer:"
   ]
  },
  {
   "cell_type": "code",
   "execution_count": null,
   "id": "10a55212",
   "metadata": {},
   "outputs": [],
   "source": [
    "Please write your answer in full sentences.\n",
    "\n"
   ]
  },
  {
   "cell_type": "markdown",
   "id": "07fb57b9",
   "metadata": {},
   "source": [
    "### Default 1\n",
    "\n",
    "In Chapter 4, we used logistic regression to predict the probability of default using income and balance on the `Default` data set. We will now estimate the test error of this logistic regression model using the validation set approach. Do not forget to set a random seed before beginning your analysis.\n",
    "\n",
    "(a) Fit a logistic regression model that uses income and balance to predict default.\n",
    "\n",
    "Your code:"
   ]
  },
  {
   "cell_type": "code",
   "execution_count": null,
   "id": "66f245cd",
   "metadata": {
    "attributes": {
     "classes": [],
     "id": "",
     "r,echo": "TRUE"
    }
   },
   "outputs": [],
   "source": [
    "#\n",
    "#"
   ]
  },
  {
   "cell_type": "markdown",
   "id": "25446b44",
   "metadata": {},
   "source": [
    "Your answer:"
   ]
  },
  {
   "cell_type": "code",
   "execution_count": null,
   "id": "df3b05a6",
   "metadata": {},
   "outputs": [],
   "source": [
    "Please write your answer in full sentences.\n",
    "\n"
   ]
  },
  {
   "cell_type": "markdown",
   "id": "92997c3f",
   "metadata": {},
   "source": [
    "(b) Using the validation set approach, estimate the test error of this model. In order to do this, you must perform the following steps:\n",
    "\n",
    "i. Split the sample set into a training set and a validation set.\n",
    "\n",
    "Your code:"
   ]
  },
  {
   "cell_type": "code",
   "execution_count": null,
   "id": "9df8dd8b",
   "metadata": {
    "attributes": {
     "classes": [],
     "id": "",
     "r,echo": "TRUE"
    }
   },
   "outputs": [],
   "source": [
    "#\n",
    "#"
   ]
  },
  {
   "cell_type": "markdown",
   "id": "3da99b06",
   "metadata": {},
   "source": [
    "Your answer:"
   ]
  },
  {
   "cell_type": "code",
   "execution_count": null,
   "id": "578a7787",
   "metadata": {},
   "outputs": [],
   "source": [
    "Please write your answer in full sentences.\n",
    "\n"
   ]
  },
  {
   "cell_type": "markdown",
   "id": "b45fde2f",
   "metadata": {},
   "source": [
    "ii. Fit a multiple logistic regression model using only the training observations.\n",
    "\n",
    "Your code:"
   ]
  },
  {
   "cell_type": "code",
   "execution_count": null,
   "id": "4c66ffc8",
   "metadata": {
    "attributes": {
     "classes": [],
     "id": "",
     "r,echo": "TRUE"
    }
   },
   "outputs": [],
   "source": [
    "#\n",
    "#"
   ]
  },
  {
   "cell_type": "markdown",
   "id": "e2c6f7db",
   "metadata": {},
   "source": [
    "Your answer:"
   ]
  },
  {
   "cell_type": "code",
   "execution_count": null,
   "id": "788d696f",
   "metadata": {},
   "outputs": [],
   "source": [
    "Please write your answer in full sentences.\n",
    "\n"
   ]
  },
  {
   "cell_type": "markdown",
   "id": "08862e14",
   "metadata": {},
   "source": [
    "iii. Obtain a prediction of default status for each individual in the validation set by computing the posterior probability of default for that individual, and classifying the individual to the default category if the posterior probability is greater than 0.5.\n",
    "\n",
    "\n",
    "Your code:"
   ]
  },
  {
   "cell_type": "code",
   "execution_count": null,
   "id": "3bd04ba7",
   "metadata": {
    "attributes": {
     "classes": [],
     "id": "",
     "r,echo": "TRUE"
    }
   },
   "outputs": [],
   "source": [
    "#\n",
    "#"
   ]
  },
  {
   "cell_type": "markdown",
   "id": "809b430c",
   "metadata": {},
   "source": [
    "Your answer:"
   ]
  },
  {
   "cell_type": "code",
   "execution_count": null,
   "id": "6b84b2eb",
   "metadata": {},
   "outputs": [],
   "source": [
    "Please write your answer in full sentences.\n",
    "\n"
   ]
  },
  {
   "cell_type": "markdown",
   "id": "72dadb39",
   "metadata": {},
   "source": [
    "iv. Compute the validation set error, which is the fraction of the observations in the validation set that are misclassified.\n",
    "\n",
    "Your code:"
   ]
  },
  {
   "cell_type": "code",
   "execution_count": null,
   "id": "f4bca2b5",
   "metadata": {
    "attributes": {
     "classes": [],
     "id": "",
     "r,echo": "TRUE"
    }
   },
   "outputs": [],
   "source": [
    "#\n",
    "#"
   ]
  },
  {
   "cell_type": "markdown",
   "id": "5b4b7bfa",
   "metadata": {},
   "source": [
    "Your answer:"
   ]
  },
  {
   "cell_type": "code",
   "execution_count": null,
   "id": "bfe26f31",
   "metadata": {},
   "outputs": [],
   "source": [
    "Please write your answer in full sentences.\n",
    "\n"
   ]
  },
  {
   "cell_type": "markdown",
   "id": "77c6f37a",
   "metadata": {},
   "source": [
    "(c) Repeat the process in (b) three times, using three different splits of the observations into a training set and a validation set. Comment on the results obtained.\n",
    "\n",
    "\n",
    "Your code:"
   ]
  },
  {
   "cell_type": "code",
   "execution_count": null,
   "id": "289667b3",
   "metadata": {
    "attributes": {
     "classes": [],
     "id": "",
     "r,echo": "TRUE"
    }
   },
   "outputs": [],
   "source": [
    "#\n",
    "#"
   ]
  },
  {
   "cell_type": "markdown",
   "id": "c8316b49",
   "metadata": {},
   "source": [
    "Your answer:"
   ]
  },
  {
   "cell_type": "code",
   "execution_count": null,
   "id": "999110f9",
   "metadata": {},
   "outputs": [],
   "source": [
    "Please write your answer in full sentences.\n",
    "\n"
   ]
  },
  {
   "cell_type": "markdown",
   "id": "b41f0ed9",
   "metadata": {},
   "source": [
    "(d) Now consider a logistic regression model that predicts the probability of default using income, balance, and a dummy variable for student. Estimate the test error for this model using the validation set approach. Comment on whether or not including a dummy variable for student leads to a reduction in the test error rate.\n",
    "\n",
    "\n",
    "Your code:"
   ]
  },
  {
   "cell_type": "code",
   "execution_count": null,
   "id": "5d6efd17",
   "metadata": {
    "attributes": {
     "classes": [],
     "id": "",
     "r,echo": "TRUE"
    }
   },
   "outputs": [],
   "source": [
    "#\n",
    "#"
   ]
  },
  {
   "cell_type": "markdown",
   "id": "cb78d162",
   "metadata": {},
   "source": [
    "Your answer:"
   ]
  },
  {
   "cell_type": "code",
   "execution_count": null,
   "id": "07c5d845",
   "metadata": {},
   "outputs": [],
   "source": [
    "Please write your answer in full sentences.\n",
    "\n"
   ]
  },
  {
   "cell_type": "markdown",
   "id": "deb8b63b",
   "metadata": {},
   "source": [
    "### Default 2\n",
    "\n",
    "We continue to consider the use of a logistic regression model to predict the probability of default using income and balance on the `Default` data set. In particular, we will now compute estimates for the standard errors of the income and balance logistic regression coefficients in two different ways: (1) using the bootstrap, and (2) using the standard formula for computing the standard errors in the `glm()` function. Do not forget to set a random seed before beginning your analysis.\n",
    "\n",
    "(a) Using the `summary()` and `glm()` functions, determine the estimated standard errors for the coefficients associated with income and balance in a multiple logistic regression model that uses both predictors.\n",
    "\n",
    "Your code:"
   ]
  },
  {
   "cell_type": "code",
   "execution_count": null,
   "id": "32550102",
   "metadata": {
    "attributes": {
     "classes": [],
     "id": "",
     "r,echo": "TRUE"
    }
   },
   "outputs": [],
   "source": [
    "#\n",
    "#"
   ]
  },
  {
   "cell_type": "markdown",
   "id": "8dfd092d",
   "metadata": {},
   "source": [
    "Your answer:"
   ]
  },
  {
   "cell_type": "code",
   "execution_count": null,
   "id": "3771f19a",
   "metadata": {},
   "outputs": [],
   "source": [
    "Please write your answer in full sentences.\n",
    "\n"
   ]
  },
  {
   "cell_type": "markdown",
   "id": "50cd6394",
   "metadata": {},
   "source": [
    "(b) Write a function, `boot.fn()`, that takes as input the Default data set as well as an index of the observations, and that outputs the coefficient estimates for income and balance in the multiple logistic regression model.\n",
    "\n",
    "Your code:"
   ]
  },
  {
   "cell_type": "code",
   "execution_count": null,
   "id": "065d313f",
   "metadata": {
    "attributes": {
     "classes": [],
     "id": "",
     "r,echo": "TRUE"
    }
   },
   "outputs": [],
   "source": [
    "#\n",
    "#"
   ]
  },
  {
   "cell_type": "markdown",
   "id": "3554121f",
   "metadata": {},
   "source": [
    "Your answer:"
   ]
  },
  {
   "cell_type": "code",
   "execution_count": null,
   "id": "ebf082bf",
   "metadata": {},
   "outputs": [],
   "source": [
    "Please write your answer in full sentences.\n",
    "\n"
   ]
  },
  {
   "cell_type": "markdown",
   "id": "37218e7e",
   "metadata": {},
   "source": [
    "(c) Use the boot() function together with your boot.fn() function to estimate the standard errors of the logistic regression coefficients for income and balance.\n",
    "\n",
    "\n",
    "Your code:"
   ]
  },
  {
   "cell_type": "code",
   "execution_count": null,
   "id": "d88b5fbc",
   "metadata": {
    "attributes": {
     "classes": [],
     "id": "",
     "r,echo": "TRUE"
    }
   },
   "outputs": [],
   "source": [
    "#\n",
    "#"
   ]
  },
  {
   "cell_type": "markdown",
   "id": "3047a88b",
   "metadata": {},
   "source": [
    "Your answer:"
   ]
  },
  {
   "cell_type": "code",
   "execution_count": null,
   "id": "73a8ed3a",
   "metadata": {},
   "outputs": [],
   "source": [
    "Please write your answer in full sentences.\n",
    "\n"
   ]
  },
  {
   "cell_type": "markdown",
   "id": "a6b3d2e2",
   "metadata": {},
   "source": [
    "(d) Comment on the estimated standard errors obtained using the glm() function and using your bootstrap function.\n",
    "\n",
    "Your answer:"
   ]
  },
  {
   "cell_type": "code",
   "execution_count": null,
   "id": "1571fb67",
   "metadata": {},
   "outputs": [],
   "source": [
    "Please write your answer in full sentences.\n",
    "\n"
   ]
  },
  {
   "cell_type": "markdown",
   "id": "569505a4",
   "metadata": {},
   "source": [
    "### Boston housing data set\n",
    "\n",
    "We will now consider the Boston housing data set, from the ISLR2 library.\n",
    "\n",
    "(a) Based on this data set, provide an estimate for the population mean of medv. Call this estimate $\\hat{\\mu}$.\n",
    "\n",
    "Your code:"
   ]
  },
  {
   "cell_type": "code",
   "execution_count": null,
   "id": "ac9a8c8b",
   "metadata": {
    "attributes": {
     "classes": [],
     "id": "",
     "r,echo": "TRUE"
    }
   },
   "outputs": [],
   "source": [
    "#\n",
    "#"
   ]
  },
  {
   "cell_type": "markdown",
   "id": "ff02db5e",
   "metadata": {},
   "source": [
    "Your answer:"
   ]
  },
  {
   "cell_type": "code",
   "execution_count": null,
   "id": "edb9c289",
   "metadata": {},
   "outputs": [],
   "source": [
    "Please write your answer in full sentences.\n",
    "\n"
   ]
  },
  {
   "cell_type": "markdown",
   "id": "265d30cf",
   "metadata": {},
   "source": [
    "(b) Provide an estimate of the standard error of $\\hat{\\mu}$. Interpret this result.\n",
    "Hint: We can compute the standard error of the sample mean by dividing the sample standard deviation by the square root of the number of observations.\n",
    "\n",
    "Your code:"
   ]
  },
  {
   "cell_type": "code",
   "execution_count": null,
   "id": "6545c93f",
   "metadata": {
    "attributes": {
     "classes": [],
     "id": "",
     "r,echo": "TRUE"
    }
   },
   "outputs": [],
   "source": [
    "#\n",
    "#"
   ]
  },
  {
   "cell_type": "markdown",
   "id": "a43e435c",
   "metadata": {},
   "source": [
    "Your answer:"
   ]
  },
  {
   "cell_type": "code",
   "execution_count": null,
   "id": "6926bc2e",
   "metadata": {},
   "outputs": [],
   "source": [
    "Please write your answer in full sentences.\n",
    "\n"
   ]
  },
  {
   "cell_type": "markdown",
   "id": "4923eee4",
   "metadata": {},
   "source": [
    "(c) Now estimate the standard error of $\\hat{\\mu}$ using the bootstrap. How does this compare to your answer from (b)?\n",
    "\n",
    "Your code:"
   ]
  },
  {
   "cell_type": "code",
   "execution_count": null,
   "id": "eb837c9c",
   "metadata": {
    "attributes": {
     "classes": [],
     "id": "",
     "r,echo": "TRUE"
    }
   },
   "outputs": [],
   "source": [
    "#\n",
    "#"
   ]
  },
  {
   "cell_type": "markdown",
   "id": "cec55687",
   "metadata": {},
   "source": [
    "Your answer:"
   ]
  },
  {
   "cell_type": "code",
   "execution_count": null,
   "id": "71f558d2",
   "metadata": {},
   "outputs": [],
   "source": [
    "Please write your answer in full sentences.\n",
    "\n"
   ]
  },
  {
   "cell_type": "markdown",
   "id": "84325d03",
   "metadata": {},
   "source": [
    "(d) Based on your bootstrap estimate from (c), provide a 95\\% confidence interval for the mean of medv. Compare it to the results obtained using t.test(Boston$medv).\n",
    "Hint: You can approximate a 95\\% confidence interval using the formula \n",
    "\n",
    "$$[\\hat{\\mu} − 2SE(\\hat{\\mu}), \\hat{\\mu} + 2SE(\\hat{\\mu})]$$.\n",
    "\n",
    "Your code:"
   ]
  },
  {
   "cell_type": "code",
   "execution_count": null,
   "id": "10e62d1b",
   "metadata": {
    "attributes": {
     "classes": [],
     "id": "",
     "r,echo": "TRUE"
    }
   },
   "outputs": [],
   "source": [
    "#\n",
    "#"
   ]
  },
  {
   "cell_type": "markdown",
   "id": "6c4401d8",
   "metadata": {},
   "source": [
    "Your answer:"
   ]
  },
  {
   "cell_type": "code",
   "execution_count": null,
   "id": "1962dfe0",
   "metadata": {},
   "outputs": [],
   "source": [
    "Please write your answer in full sentences.\n",
    "\n"
   ]
  },
  {
   "cell_type": "markdown",
   "id": "9301b542",
   "metadata": {},
   "source": [
    "(e) Based on this data set, provide an estimate, $\\hat{\\mu}_{med}$, for the median value of medv in the population.\n",
    "\n",
    "Your code:"
   ]
  },
  {
   "cell_type": "code",
   "execution_count": null,
   "id": "bee0eca9",
   "metadata": {
    "attributes": {
     "classes": [],
     "id": "",
     "r,echo": "TRUE"
    }
   },
   "outputs": [],
   "source": [
    "#\n",
    "#"
   ]
  },
  {
   "cell_type": "markdown",
   "id": "87da1ce6",
   "metadata": {},
   "source": [
    "Your answer:"
   ]
  },
  {
   "cell_type": "code",
   "execution_count": null,
   "id": "4235a890",
   "metadata": {},
   "outputs": [],
   "source": [
    "Please write your answer in full sentences.\n",
    "\n"
   ]
  },
  {
   "cell_type": "markdown",
   "id": "894d11b5",
   "metadata": {},
   "source": [
    "(f) We now would like to estimate the standard error of $\\hat{\\mu}_{med}$. Unfortunately, there is no simple formula for computing the standard error of the median. Instead, estimate the standard error of the median using the bootstrap. Comment on your findings.\n",
    "\n",
    "Your code:"
   ]
  },
  {
   "cell_type": "code",
   "execution_count": null,
   "id": "547fd878",
   "metadata": {
    "attributes": {
     "classes": [],
     "id": "",
     "r,echo": "TRUE"
    }
   },
   "outputs": [],
   "source": [
    "#\n",
    "#"
   ]
  },
  {
   "cell_type": "markdown",
   "id": "8fb91ddd",
   "metadata": {},
   "source": [
    "Your answer:"
   ]
  },
  {
   "cell_type": "code",
   "execution_count": null,
   "id": "c3732a1b",
   "metadata": {},
   "outputs": [],
   "source": [
    "Please write your answer in full sentences.\n",
    "\n"
   ]
  },
  {
   "cell_type": "markdown",
   "id": "12242112",
   "metadata": {},
   "source": [
    "(g) Based on this data set, provide an estimate for the tenth percentile of medv in Boston census tracts. Call this quantity $\\hat{\\mu}_{0.1}$. (You can use the quantile() function.)\n",
    "\n",
    "Your code:"
   ]
  },
  {
   "cell_type": "code",
   "execution_count": null,
   "id": "d0633a80",
   "metadata": {
    "attributes": {
     "classes": [],
     "id": "",
     "r,echo": "TRUE"
    }
   },
   "outputs": [],
   "source": [
    "#\n",
    "#"
   ]
  },
  {
   "cell_type": "markdown",
   "id": "f67b9bbc",
   "metadata": {},
   "source": [
    "Your answer:"
   ]
  },
  {
   "cell_type": "code",
   "execution_count": null,
   "id": "8e8c4675",
   "metadata": {},
   "outputs": [],
   "source": [
    "Please write your answer in full sentences.\n",
    "\n"
   ]
  },
  {
   "cell_type": "markdown",
   "id": "755371a7",
   "metadata": {},
   "source": [
    "(h) Use the bootstrap to estimate the standard error of $\\hat{\\mu}_{0.1}$. Comment on your findings.\n",
    "\n",
    "Your code:"
   ]
  },
  {
   "cell_type": "code",
   "execution_count": null,
   "id": "2deaa33e",
   "metadata": {
    "attributes": {
     "classes": [],
     "id": "",
     "r,echo": "TRUE"
    }
   },
   "outputs": [],
   "source": [
    "#\n",
    "#"
   ]
  },
  {
   "cell_type": "markdown",
   "id": "46592f58",
   "metadata": {},
   "source": [
    "Your answer:"
   ]
  },
  {
   "cell_type": "code",
   "execution_count": null,
   "id": "51930ae0",
   "metadata": {},
   "outputs": [],
   "source": [
    "Please write your answer in full sentences.\n",
    "\n"
   ]
  },
  {
   "cell_type": "markdown",
   "id": "aff51cb4",
   "metadata": {},
   "source": [
    "## Additional Material\n",
    "\n",
    "### Predictive Modeling Platforms in R\n",
    "\n",
    "There are few platforms in R that does predictive modeling.\n",
    "These platforms are wrappers around other packages that makes it easy to do routine tasks.\n",
    "\n",
    "- mlr3 (https://mlr3book.mlr-org.com)\n",
    "- tidymodels (https://www.tidymodels.org/)\n",
    "- caret (https://topepo.github.io/caret/)\n",
    "- h2o (https://docs.h2o.ai/h2o/latest-stable/h2o-r/docs/index.html)"
   ]
  },
  {
   "cell_type": "code",
   "execution_count": null,
   "id": "f509de1d",
   "metadata": {
    "attributes": {
     "classes": [],
     "id": "",
     "r,echo": "show_code"
    }
   },
   "outputs": [],
   "source": [
    "# split the data\n",
    "index <- sample(1:nrow(ames_raw), 0.7*nrow(ames_raw))\n",
    "vars <- c(\"SalePrice\",\"Lot Area\",\"Gr Liv Area\",\"Full Bath\")\n",
    "train <- ames_raw[ index, vars]\n",
    "test  <- ames_raw[-index, vars]\n",
    "colnames(train) <- make.names(colnames(train))\n",
    "colnames(test)  <- make.names(colnames(test))\n",
    "\n",
    "# mlr3 TaskRegr\n",
    "train$SalePrice <- log(train$SalePrice)"
   ]
  },
  {
   "cell_type": "markdown",
   "id": "e0dfe37f",
   "metadata": {},
   "source": [
    "#### Resampling using [mlr3](https://mlr3book.mlr-org.com)\n",
    "\n",
    "In MLR3 resampling for CV is"
   ]
  },
  {
   "cell_type": "code",
   "execution_count": null,
   "id": "9df7aadb",
   "metadata": {
    "attributes": {
     "classes": [],
     "id": "",
     "r,eval": "FALSE,echo=TRUE"
    }
   },
   "outputs": [],
   "source": [
    "mlr_resamplings$get(\"cv\")\n",
    "rsmp(\"cv\")"
   ]
  },
  {
   "cell_type": "markdown",
   "id": "d54b60b2",
   "metadata": {},
   "source": [
    "resampling for bootstrap is"
   ]
  },
  {
   "cell_type": "code",
   "execution_count": null,
   "id": "ca3356a3",
   "metadata": {
    "attributes": {
     "classes": [],
     "id": "",
     "r,eval": "FALSE,echo=TRUE"
    }
   },
   "outputs": [],
   "source": [
    "mlr_resamplings$get(\"bootstrap\")\n",
    "rsmp(\"bootstrap\")"
   ]
  },
  {
   "cell_type": "markdown",
   "id": "1c34e73d",
   "metadata": {},
   "source": [
    "They are called using `resample` function"
   ]
  },
  {
   "cell_type": "code",
   "execution_count": null,
   "id": "3a4603dc",
   "metadata": {
    "attributes": {
     "classes": [],
     "id": "",
     "r,echo": "show_code"
    }
   },
   "outputs": [],
   "source": [
    "# load packages and data\n",
    "library(mlr3)\n",
    "library(mlr3learners)\n",
    "\n",
    "# fit a model\n",
    "task <- as_task_regr(train, target =\"SalePrice\",id = \"ames_raw\")\n",
    "learner <- lrn(\"regr.lm\", predict_type = \"response\")\n",
    "resampler = rsmp(\"cv\")\n",
    "\n",
    "# Explicitly instantiate the resampling for this task for reproduciblity\n",
    "set.seed(123)\n",
    "resampler$instantiate(task)\n",
    "\n",
    "rr = resample(task, learner, resampler)\n",
    "rr$aggregate()\n",
    "pred = rr$prediction()\n",
    "\n",
    "# Repeat resampling with featureless learner\n",
    "rr_featureless = resample(task, lrn(\"regr.featureless\"), resampler)\n",
    "\n",
    "# Convert results to BenchmarkResult, then combine them\n",
    "bmr1 = as_benchmark_result(rr)\n",
    "bmr2 = as_benchmark_result(rr_featureless)\n",
    "bmr1$aggregate()"
   ]
  },
  {
   "cell_type": "markdown",
   "id": "dea82f47",
   "metadata": {},
   "source": [
    "#### Resampling using [tidymodels](https://www.tidymodels.org/)"
   ]
  },
  {
   "cell_type": "code",
   "execution_count": null,
   "id": "f7436f79",
   "metadata": {
    "attributes": {
     "classes": [],
     "id": "",
     "r,echo": "show_code"
    }
   },
   "outputs": [],
   "source": [
    "# load packages and data\n",
    "library(tidymodels)\n",
    "library(dotwhisker)\n",
    "# Setup the model\n",
    "rec <- recipe(SalePrice ~ ., data = train) \n",
    "clf <- linear_reg() \n",
    "\n",
    "folds <- vfold_cv(train, v = 10)\n",
    "control <- control_resamples(save_pred = TRUE)\n",
    "\n",
    "wflow <- workflow() %>%\n",
    "         add_recipe(rec) %>%\n",
    "         add_model(clf)\n",
    "\n",
    "# fit the models\n",
    "lm_fit_rsmpl <- wflow %>% fit_resamples(folds,control=control)\n",
    "\n",
    "collect_metrics(lm_fit_rsmpl)\n",
    "prediction=collect_predictions(lm_fit_rsmpl)"
   ]
  },
  {
   "cell_type": "markdown",
   "id": "0e54b07b",
   "metadata": {},
   "source": [
    "#### Resampling using caret"
   ]
  },
  {
   "cell_type": "code",
   "execution_count": null,
   "id": "8648d6e8",
   "metadata": {
    "attributes": {
     "classes": [],
     "id": "",
     "r,echo": "show_code"
    }
   },
   "outputs": [],
   "source": [
    "# load packages and data\n",
    "library(caret)\n",
    "\n",
    "# fit the models\n",
    "cv <- trainControl(method = \"cv\", number = 5)\n",
    "lm_model <- train(SalePrice ~ ., data = train, method = \"lm\", trControl = cv)\n",
    "\n",
    "prediction=predict(lm_model,newdata = test)\n"
   ]
  },
  {
   "cell_type": "markdown",
   "id": "a6ade7c5",
   "metadata": {},
   "source": [
    "#### Resampling  using h2o\n",
    "\n",
    "\n",
    "#### Starting H2O\n",
    "\n",
    "To use H2O you need to instantiate it."
   ]
  },
  {
   "cell_type": "code",
   "execution_count": null,
   "id": "002cdad0",
   "metadata": {
    "attributes": {
     "classes": [],
     "id": "",
     "r,echo": "show_code,eval=FALSE"
    }
   },
   "outputs": [],
   "source": [
    "library(\"h2o\")\n",
    "# nthreads specifies number of threads. -1 means use all the CPU cores.\n",
    "# max_mem_size specifies the maximum amount of RAM to use.\n",
    "localH2O <- h2o.init(nthreads = -1, max_mem_size=\"4g\")"
   ]
  },
  {
   "cell_type": "markdown",
   "id": "ac964d5e",
   "metadata": {},
   "source": [
    "#### Serving the data to H2O\n",
    "\n",
    "Since H2O is not in R, you need to tell it to use your data."
   ]
  },
  {
   "cell_type": "code",
   "execution_count": null,
   "id": "ad8dc054",
   "metadata": {
    "attributes": {
     "classes": [],
     "id": "",
     "r,echo": "show_code,eval=FALSE"
    }
   },
   "outputs": [],
   "source": [
    "train_hf <- as.h2o(train)\n",
    "test_hf <- as.h2o(test)"
   ]
  },
  {
   "cell_type": "markdown",
   "id": "b787070e",
   "metadata": {},
   "source": [
    "##### Cross validation\n",
    "\n",
    "You can use K fold cross validation by specifying an integer to nfolds option.  With cross-validated model building, H2O builds K+1 models: K cross-validated model and 1 overarching model over all of the training data.  \n",
    "\n",
    "Fitting GLM using 10 fold cross validation."
   ]
  },
  {
   "cell_type": "code",
   "execution_count": null,
   "id": "2a97b03c",
   "metadata": {
    "attributes": {
     "classes": [],
     "id": "",
     "r,echo": "show_code,eval=FALSE"
    }
   },
   "outputs": [],
   "source": [
    "gaussian.fit.cv = h2o.glm(y = \"SalePrice\",                               #response variable \n",
    "                       x = c(\"SalePrice\",\"Lot.Area\",\"Gr.Liv.Area\",\"Full.Bath\"),\n",
    "                          training_frame = train_hf, family = \"gaussian\",lambda = 0, nfolds = 10)\n",
    "gaussian.fit.cv\n"
   ]
  },
  {
   "cell_type": "markdown",
   "id": "4ca042c8",
   "metadata": {},
   "source": [
    "The plot shows the variability of each coefficient among the 10 folds.  The red x is the final estimate."
   ]
  },
  {
   "cell_type": "code",
   "execution_count": null,
   "id": "95fa5e6f",
   "metadata": {
    "attributes": {
     "classes": [],
     "id": "",
     "r,echo": "show_code,eval=FALSE"
    }
   },
   "outputs": [],
   "source": [
    "boxplot(t(sapply(sapply(gaussian.fit.cv@model$cross_validation_models, `[[`, \"name\"), function(x) h2o.coef(h2o.getModel(x)))),\n",
    "        names = NULL)\n",
    "points(1:4, coef(gaussian.fit.cv@model), pch = \"X\", col = \"red\")\n",
    "abline(h = 0, col = \"blue\")\n"
   ]
  }
 ],
 "metadata": {
  "kernelspec": {
   "display_name": "R",
   "language": "R",
   "name": "ir"
  },
  "language_info": {
   "codemirror_mode": "r",
   "file_extension": ".r",
   "mimetype": "text/x-r-source",
   "name": "R",
   "pygments_lexer": "r",
   "version": "4.2.1"
  }
 },
 "nbformat": 4,
 "nbformat_minor": 5
}
